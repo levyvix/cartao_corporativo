{
 "cells": [
  {
   "cell_type": "code",
   "execution_count": 1,
   "metadata": {},
   "outputs": [],
   "source": [
    "import pandas as pd\n",
    "\n",
    "import plotly.express as px\n"
   ]
  },
  {
   "cell_type": "code",
   "execution_count": 38,
   "metadata": {},
   "outputs": [],
   "source": [
    "gastos = pd.read_csv(\n",
    "    'https://www.gov.br/secretariageral/pt-br/acesso-a-informacao/informacoes-classificadas-e-desclassificadas/Planilha12003a2022.csv',\n",
    "    encoding='latin1', delimiter=';')\n"
   ]
  },
  {
   "cell_type": "code",
   "execution_count": 60,
   "metadata": {},
   "outputs": [],
   "source": [
    "gastos_processed = gastos.copy()\n"
   ]
  },
  {
   "cell_type": "code",
   "execution_count": 82,
   "metadata": {},
   "outputs": [
    {
     "name": "stderr",
     "output_type": "stream",
     "text": [
      "C:\\Users\\levi\\AppData\\Local\\Temp\\ipykernel_11276\\4151505748.py:9: FutureWarning:\n",
      "\n",
      "The default value of regex will change from True to False in a future version.\n",
      "\n"
     ]
    }
   ],
   "source": [
    "gastos_processed.loc[:, 'DATA PGTO'] = pd.to_datetime(gastos_processed['DATA PGTO'], errors='coerce', format=\"%d/%m/%Y\")\n",
    "\n",
    "gastos_processed.loc[:, 'ANO'] = gastos_processed['DATA PGTO'].dt.year\n",
    "\n",
    "\n",
    "gastos_processed = gastos_processed.dropna(axis=0, subset=['CPF SERVIDOR'])\n"
   ]
  },
  {
   "cell_type": "code",
   "execution_count": 98,
   "metadata": {},
   "outputs": [
    {
     "name": "stderr",
     "output_type": "stream",
     "text": [
      "C:\\Users\\levi\\AppData\\Local\\Temp\\ipykernel_11276\\3654624675.py:1: FutureWarning:\n",
      "\n",
      "The default value of regex will change from True to False in a future version.\n",
      "\n",
      "C:\\Users\\levi\\AppData\\Local\\Temp\\ipykernel_11276\\3654624675.py:1: FutureWarning:\n",
      "\n",
      "The default value of regex will change from True to False in a future version. In addition, single character regular expressions will *not* be treated as literal strings when regex=True.\n",
      "\n"
     ]
    },
    {
     "data": {
      "text/plain": [
       "0         1696.90\n",
       "3250        29.54\n",
       "3249       120.00\n",
       "3248        25.99\n",
       "3247       583.25\n",
       "           ...   \n",
       "111315      86.63\n",
       "111316     150.09\n",
       "111317      81.00\n",
       "111308     375.48\n",
       "113339      54.66\n",
       "Name: VALOR, Length: 113340, dtype: float64"
      ]
     },
     "execution_count": 98,
     "metadata": {},
     "output_type": "execute_result"
    }
   ],
   "source": []
  },
  {
   "cell_type": "code",
   "execution_count": 96,
   "metadata": {},
   "outputs": [
    {
     "data": {
      "text/plain": [
       "DATA PGTO                                               2006-05-01 00:00:00\n",
       "CPF SERVIDOR                                                 ***.787.941-**\n",
       "CPF/CNPJ FORNECEDOR                                        66542002002326.0\n",
       "NOME FORNECEDOR                                        BLUE TREE CONVENTION\n",
       "VALOR                                                               R$ -   \n",
       "TIPO                                                                      C\n",
       "SUBELEMENTO DE DESPESA                                          HOSPEDAGENS\n",
       "CDIC                      00200.001663/2006-99.R.08.01/05/2006.31/12/2014.N\n",
       "ANO                                                                    2006\n",
       "VALOR_NUM                                                               NaN\n",
       "PRES                                                                   LULA\n",
       "Name: 22089, dtype: object"
      ]
     },
     "execution_count": 96,
     "metadata": {},
     "output_type": "execute_result"
    }
   ],
   "source": [
    "gastos_processed.iloc[28065]\n"
   ]
  },
  {
   "cell_type": "code",
   "execution_count": 99,
   "metadata": {},
   "outputs": [
    {
     "name": "stderr",
     "output_type": "stream",
     "text": [
      "C:\\Users\\levi\\AppData\\Local\\Temp\\ipykernel_11276\\2520280853.py:1: FutureWarning:\n",
      "\n",
      "The default value of regex will change from True to False in a future version.\n",
      "\n",
      "C:\\Users\\levi\\AppData\\Local\\Temp\\ipykernel_11276\\2520280853.py:1: FutureWarning:\n",
      "\n",
      "The default value of regex will change from True to False in a future version. In addition, single character regular expressions will *not* be treated as literal strings when regex=True.\n",
      "\n"
     ]
    },
    {
     "data": {
      "text/html": [
       "<div>\n",
       "<style scoped>\n",
       "    .dataframe tbody tr th:only-of-type {\n",
       "        vertical-align: middle;\n",
       "    }\n",
       "\n",
       "    .dataframe tbody tr th {\n",
       "        vertical-align: top;\n",
       "    }\n",
       "\n",
       "    .dataframe thead th {\n",
       "        text-align: right;\n",
       "    }\n",
       "</style>\n",
       "<table border=\"1\" class=\"dataframe\">\n",
       "  <thead>\n",
       "    <tr style=\"text-align: right;\">\n",
       "      <th></th>\n",
       "      <th>DATA PGTO</th>\n",
       "      <th>CPF SERVIDOR</th>\n",
       "      <th>CPF/CNPJ FORNECEDOR</th>\n",
       "      <th>NOME FORNECEDOR</th>\n",
       "      <th>VALOR</th>\n",
       "      <th>TIPO</th>\n",
       "      <th>SUBELEMENTO DE DESPESA</th>\n",
       "      <th>CDIC</th>\n",
       "      <th>ANO</th>\n",
       "      <th>VALOR_NUM</th>\n",
       "      <th>PRES</th>\n",
       "    </tr>\n",
       "  </thead>\n",
       "  <tbody>\n",
       "    <tr>\n",
       "      <th>0</th>\n",
       "      <td>2003-01-02</td>\n",
       "      <td>***.010.008-**</td>\n",
       "      <td>3.134920e+13</td>\n",
       "      <td>JW TRANSPORTADORA TURÖSTICA</td>\n",
       "      <td>R$ 1.696,90</td>\n",
       "      <td>D</td>\n",
       "      <td>LOCACAO DE MEIOS DE TRANSPORTE</td>\n",
       "      <td>00200.220539/2003-63.R.08.18/12/2002.31/12/2014.N</td>\n",
       "      <td>2003</td>\n",
       "      <td>1696.90</td>\n",
       "      <td>LULA</td>\n",
       "    </tr>\n",
       "    <tr>\n",
       "      <th>3250</th>\n",
       "      <td>2003-08-22</td>\n",
       "      <td>***.004.131-**</td>\n",
       "      <td>4.750841e+13</td>\n",
       "      <td>COMPANHIA BRASILEIRA DE DISTRIBUÖÇO - EXTRA</td>\n",
       "      <td>R$ 29,54</td>\n",
       "      <td>C</td>\n",
       "      <td>MATERIAL ELETRICO E ELETRONICO</td>\n",
       "      <td>00200.803806/2003-54.R.08.20/08/2003.31/12/2014.N</td>\n",
       "      <td>2003</td>\n",
       "      <td>29.54</td>\n",
       "      <td>LULA</td>\n",
       "    </tr>\n",
       "    <tr>\n",
       "      <th>3249</th>\n",
       "      <td>2003-08-22</td>\n",
       "      <td>***.004.131-**</td>\n",
       "      <td>4.750841e+13</td>\n",
       "      <td>COMPANHIA BRASILEIRA DE DISTRIBUÖÇO - EXTRA</td>\n",
       "      <td>R$ 120,00</td>\n",
       "      <td>C</td>\n",
       "      <td>GENEROS DE ALIMENTAÇO</td>\n",
       "      <td>00200.803806/2003-54.R.08.20/08/2003.31/12/2014.N</td>\n",
       "      <td>2003</td>\n",
       "      <td>120.00</td>\n",
       "      <td>LULA</td>\n",
       "    </tr>\n",
       "    <tr>\n",
       "      <th>3248</th>\n",
       "      <td>2003-08-22</td>\n",
       "      <td>***.765.178-**</td>\n",
       "      <td>4.328381e+13</td>\n",
       "      <td>KALUNGA COM E IND. GRµFICA LTDA.</td>\n",
       "      <td>R$ 25,99</td>\n",
       "      <td>C</td>\n",
       "      <td>MATERIAL DE EXPEDIENTE</td>\n",
       "      <td>00200.003808/2003-43.R.08.20/08/2003.31/12/2014.N</td>\n",
       "      <td>2003</td>\n",
       "      <td>25.99</td>\n",
       "      <td>LULA</td>\n",
       "    </tr>\n",
       "    <tr>\n",
       "      <th>3247</th>\n",
       "      <td>2003-08-22</td>\n",
       "      <td>***.570.341-**</td>\n",
       "      <td>6.241388e+13</td>\n",
       "      <td>MELIµ BRASIL ADM. HOTELEIRA COMERCIAL LTDA</td>\n",
       "      <td>R$ 583,25</td>\n",
       "      <td>D</td>\n",
       "      <td>HOSPEDAGENS</td>\n",
       "      <td>00200.203803/2003-11.R.08.18/08/2003.31/12/2014.N</td>\n",
       "      <td>2003</td>\n",
       "      <td>583.25</td>\n",
       "      <td>LULA</td>\n",
       "    </tr>\n",
       "    <tr>\n",
       "      <th>...</th>\n",
       "      <td>...</td>\n",
       "      <td>...</td>\n",
       "      <td>...</td>\n",
       "      <td>...</td>\n",
       "      <td>...</td>\n",
       "      <td>...</td>\n",
       "      <td>...</td>\n",
       "      <td>...</td>\n",
       "      <td>...</td>\n",
       "      <td>...</td>\n",
       "      <td>...</td>\n",
       "    </tr>\n",
       "    <tr>\n",
       "      <th>111315</th>\n",
       "      <td>2022-04-21</td>\n",
       "      <td>***.357.911-**</td>\n",
       "      <td>4.453855e+13</td>\n",
       "      <td>BEIRA MAR COMERCIO DE COMBUSTIVEIS E LUBRIFICA...</td>\n",
       "      <td>86,63</td>\n",
       "      <td>C</td>\n",
       "      <td>COMBUSTIVEIS E LUBRIF. AUTOMOTIVOS</td>\n",
       "      <td>00150.000221/2022-88.R.08.23/03/2022.31/12/2022.N</td>\n",
       "      <td>2022</td>\n",
       "      <td>86.63</td>\n",
       "      <td>BOLSONARO</td>\n",
       "    </tr>\n",
       "    <tr>\n",
       "      <th>111316</th>\n",
       "      <td>2022-04-21</td>\n",
       "      <td>***.357.911-**</td>\n",
       "      <td>4.453855e+13</td>\n",
       "      <td>BEIRA MAR COMERCIO DE COMBUSTIVEIS E LUBRIFICA...</td>\n",
       "      <td>150,09</td>\n",
       "      <td>C</td>\n",
       "      <td>COMBUSTIVEIS E LUBRIF. AUTOMOTIVOS</td>\n",
       "      <td>00150.000221/2022-88.R.08.23/03/2022.31/12/2022.N</td>\n",
       "      <td>2022</td>\n",
       "      <td>150.09</td>\n",
       "      <td>BOLSONARO</td>\n",
       "    </tr>\n",
       "    <tr>\n",
       "      <th>111317</th>\n",
       "      <td>2022-04-21</td>\n",
       "      <td>***.357.911-**</td>\n",
       "      <td>4.453855e+13</td>\n",
       "      <td>BEIRA MAR COMERCIO DE COMBUSTIVEIS E LUBRIFICA...</td>\n",
       "      <td>81</td>\n",
       "      <td>C</td>\n",
       "      <td>COMBUSTIVEIS E LUBRIF. AUTOMOTIVOS</td>\n",
       "      <td>00150.000221/2022-88.R.08.23/03/2022.31/12/2022.N</td>\n",
       "      <td>2022</td>\n",
       "      <td>81.00</td>\n",
       "      <td>BOLSONARO</td>\n",
       "    </tr>\n",
       "    <tr>\n",
       "      <th>111308</th>\n",
       "      <td>2022-04-22</td>\n",
       "      <td>***.357.911-**</td>\n",
       "      <td>5.846287e+12</td>\n",
       "      <td>CAMBU¨ SUPERMERCADOS LTDA</td>\n",
       "      <td>375,48</td>\n",
       "      <td>C</td>\n",
       "      <td>GENEROS DE ALIMENTAÇO</td>\n",
       "      <td>00150.000221/2022-88.R.08.23/03/2022.31/12/2022.N</td>\n",
       "      <td>2022</td>\n",
       "      <td>375.48</td>\n",
       "      <td>BOLSONARO</td>\n",
       "    </tr>\n",
       "    <tr>\n",
       "      <th>113339</th>\n",
       "      <td>2022-12-04</td>\n",
       "      <td>***.136.591-**</td>\n",
       "      <td>3.696869e+12</td>\n",
       "      <td>BIG TRANS COMERCIAL DE ALIMENTOS LTDA</td>\n",
       "      <td>54,66</td>\n",
       "      <td>C</td>\n",
       "      <td>GENEROS DE ALIMENTAÇO</td>\n",
       "      <td>00264.000642/2022-21.R.08.25/11/2022.31/12/2022.N</td>\n",
       "      <td>2022</td>\n",
       "      <td>54.66</td>\n",
       "      <td>BOLSONARO</td>\n",
       "    </tr>\n",
       "  </tbody>\n",
       "</table>\n",
       "<p>113340 rows × 11 columns</p>\n",
       "</div>"
      ],
      "text/plain": [
       "        DATA PGTO    CPF SERVIDOR  CPF/CNPJ FORNECEDOR  \\\n",
       "0      2003-01-02  ***.010.008-**         3.134920e+13   \n",
       "3250   2003-08-22  ***.004.131-**         4.750841e+13   \n",
       "3249   2003-08-22  ***.004.131-**         4.750841e+13   \n",
       "3248   2003-08-22  ***.765.178-**         4.328381e+13   \n",
       "3247   2003-08-22  ***.570.341-**         6.241388e+13   \n",
       "...           ...             ...                  ...   \n",
       "111315 2022-04-21  ***.357.911-**         4.453855e+13   \n",
       "111316 2022-04-21  ***.357.911-**         4.453855e+13   \n",
       "111317 2022-04-21  ***.357.911-**         4.453855e+13   \n",
       "111308 2022-04-22  ***.357.911-**         5.846287e+12   \n",
       "113339 2022-12-04  ***.136.591-**         3.696869e+12   \n",
       "\n",
       "                                          NOME FORNECEDOR          VALOR TIPO  \\\n",
       "0                             JW TRANSPORTADORA TURÖSTICA   R$ 1.696,90     D   \n",
       "3250         COMPANHIA BRASILEIRA DE DISTRIBUÖÇO - EXTRA      R$ 29,54     C   \n",
       "3249         COMPANHIA BRASILEIRA DE DISTRIBUÖÇO - EXTRA     R$ 120,00     C   \n",
       "3248                     KALUNGA COM E IND. GRµFICA LTDA.      R$ 25,99     C   \n",
       "3247           MELIµ BRASIL ADM. HOTELEIRA COMERCIAL LTDA     R$ 583,25     D   \n",
       "...                                                   ...            ...  ...   \n",
       "111315  BEIRA MAR COMERCIO DE COMBUSTIVEIS E LUBRIFICA...          86,63    C   \n",
       "111316  BEIRA MAR COMERCIO DE COMBUSTIVEIS E LUBRIFICA...         150,09    C   \n",
       "111317  BEIRA MAR COMERCIO DE COMBUSTIVEIS E LUBRIFICA...             81    C   \n",
       "111308                          CAMBU¨ SUPERMERCADOS LTDA         375,48    C   \n",
       "113339              BIG TRANS COMERCIAL DE ALIMENTOS LTDA          54,66    C   \n",
       "\n",
       "                    SUBELEMENTO DE DESPESA  \\\n",
       "0           LOCACAO DE MEIOS DE TRANSPORTE   \n",
       "3250        MATERIAL ELETRICO E ELETRONICO   \n",
       "3249                GENEROS DE ALIMENTAÇO   \n",
       "3248                MATERIAL DE EXPEDIENTE   \n",
       "3247                           HOSPEDAGENS   \n",
       "...                                    ...   \n",
       "111315  COMBUSTIVEIS E LUBRIF. AUTOMOTIVOS   \n",
       "111316  COMBUSTIVEIS E LUBRIF. AUTOMOTIVOS   \n",
       "111317  COMBUSTIVEIS E LUBRIF. AUTOMOTIVOS   \n",
       "111308              GENEROS DE ALIMENTAÇO   \n",
       "113339              GENEROS DE ALIMENTAÇO   \n",
       "\n",
       "                                                     CDIC   ANO  VALOR_NUM  \\\n",
       "0       00200.220539/2003-63.R.08.18/12/2002.31/12/2014.N  2003    1696.90   \n",
       "3250    00200.803806/2003-54.R.08.20/08/2003.31/12/2014.N  2003      29.54   \n",
       "3249    00200.803806/2003-54.R.08.20/08/2003.31/12/2014.N  2003     120.00   \n",
       "3248    00200.003808/2003-43.R.08.20/08/2003.31/12/2014.N  2003      25.99   \n",
       "3247    00200.203803/2003-11.R.08.18/08/2003.31/12/2014.N  2003     583.25   \n",
       "...                                                   ...   ...        ...   \n",
       "111315  00150.000221/2022-88.R.08.23/03/2022.31/12/2022.N  2022      86.63   \n",
       "111316  00150.000221/2022-88.R.08.23/03/2022.31/12/2022.N  2022     150.09   \n",
       "111317  00150.000221/2022-88.R.08.23/03/2022.31/12/2022.N  2022      81.00   \n",
       "111308  00150.000221/2022-88.R.08.23/03/2022.31/12/2022.N  2022     375.48   \n",
       "113339  00264.000642/2022-21.R.08.25/11/2022.31/12/2022.N  2022      54.66   \n",
       "\n",
       "             PRES  \n",
       "0            LULA  \n",
       "3250         LULA  \n",
       "3249         LULA  \n",
       "3248         LULA  \n",
       "3247         LULA  \n",
       "...           ...  \n",
       "111315  BOLSONARO  \n",
       "111316  BOLSONARO  \n",
       "111317  BOLSONARO  \n",
       "111308  BOLSONARO  \n",
       "113339  BOLSONARO  \n",
       "\n",
       "[113340 rows x 11 columns]"
      ]
     },
     "execution_count": 99,
     "metadata": {},
     "output_type": "execute_result"
    }
   ],
   "source": [
    "\n",
    "gastos_processed.loc[:, 'VALOR_NUM'] = pd.to_numeric(gastos_processed['VALOR'].str.replace(\n",
    "    r'R\\$', '').str.replace(\".\", '').str.replace(',', '.').str.strip(), errors='coerce')\n",
    "# gastos_processed['VALOR_NUM'] = gastos_processed['VALOR_NUM'].apply(lambda x: x/100 if len(str(x)) > 2 else x)\n",
    "\n",
    "gastos_processed\n"
   ]
  },
  {
   "cell_type": "code",
   "execution_count": 105,
   "metadata": {},
   "outputs": [],
   "source": [
    "gastos_processed = gastos_processed.dropna(subset=['VALOR_NUM'])\n"
   ]
  },
  {
   "cell_type": "code",
   "execution_count": 107,
   "metadata": {},
   "outputs": [
    {
     "name": "stderr",
     "output_type": "stream",
     "text": [
      "C:\\Users\\levi\\AppData\\Local\\Temp\\ipykernel_11276\\3393409254.py:13: SettingWithCopyWarning:\n",
      "\n",
      "\n",
      "A value is trying to be set on a copy of a slice from a DataFrame.\n",
      "Try using .loc[row_indexer,col_indexer] = value instead\n",
      "\n",
      "See the caveats in the documentation: https://pandas.pydata.org/pandas-docs/stable/user_guide/indexing.html#returning-a-view-versus-a-copy\n",
      "\n"
     ]
    }
   ],
   "source": [
    "def presidente(ano):\n",
    "\n",
    "    if ano <= 2010:\n",
    "        return 'LULA'\n",
    "    elif ano <= 2016:\n",
    "        return 'DILMA'\n",
    "    elif ano <= 2018:\n",
    "        return \"TEMER\"\n",
    "    elif ano <= 2022:\n",
    "        return \"BOLSONARO\"\n",
    "\n",
    "\n",
    "gastos_processed['PRES'] = gastos_processed['ANO'].apply(presidente)\n"
   ]
  },
  {
   "cell_type": "code",
   "execution_count": 108,
   "metadata": {},
   "outputs": [],
   "source": [
    "gastos_processed = gastos_processed.sort_values(\"ANO\")\n"
   ]
  },
  {
   "cell_type": "code",
   "execution_count": 109,
   "metadata": {},
   "outputs": [],
   "source": [
    "gastos_presidente = gastos_processed.groupby([\"ANO\", \"PRES\"]).agg({\"VALOR_NUM\": sum}).reset_index()\n"
   ]
  },
  {
   "cell_type": "code",
   "execution_count": 120,
   "metadata": {},
   "outputs": [
    {
     "data": {
      "application/vnd.plotly.v1+json": {
       "config": {
        "plotlyServerURL": "https://plot.ly"
       },
       "data": [
        {
         "alignmentgroup": "True",
         "hovertemplate": "PRESIDENTE=LULA<br>ANO=%{x}<br>Valor em milhões=%{y}<extra></extra>",
         "legendgroup": "LULA",
         "marker": {
          "color": "#636efa",
          "pattern": {
           "shape": ""
          }
         },
         "name": "LULA",
         "offsetgroup": "LULA",
         "orientation": "v",
         "showlegend": true,
         "textposition": "auto",
         "type": "bar",
         "x": [
          2003,
          2004,
          2005,
          2006,
          2007,
          2008,
          2009,
          2010
         ],
         "xaxis": "x",
         "y": [
          5327599.63,
          6541238.37,
          5204035.8,
          4977941.73,
          3857905.4,
          6084616.5,
          5438905.3,
          6557394.19
         ],
         "yaxis": "y"
        },
        {
         "alignmentgroup": "True",
         "hovertemplate": "PRESIDENTE=DILMA<br>ANO=%{x}<br>Valor em milhões=%{y}<extra></extra>",
         "legendgroup": "DILMA",
         "marker": {
          "color": "#EF553B",
          "pattern": {
           "shape": ""
          }
         },
         "name": "DILMA",
         "offsetgroup": "DILMA",
         "orientation": "v",
         "showlegend": true,
         "textposition": "auto",
         "type": "bar",
         "x": [
          2011,
          2012,
          2013,
          2014,
          2015,
          2016
         ],
         "xaxis": "x",
         "y": [
          4587842.43,
          4598570.59,
          6022006.62,
          9305096.62,
          5706943.28,
          4192262.08
         ],
         "yaxis": "y"
        },
        {
         "alignmentgroup": "True",
         "hovertemplate": "PRESIDENTE=TEMER<br>ANO=%{x}<br>Valor em milhões=%{y}<extra></extra>",
         "legendgroup": "TEMER",
         "marker": {
          "color": "#00cc96",
          "pattern": {
           "shape": ""
          }
         },
         "name": "TEMER",
         "offsetgroup": "TEMER",
         "orientation": "v",
         "showlegend": true,
         "textposition": "auto",
         "type": "bar",
         "x": [
          2017,
          2018
         ],
         "xaxis": "x",
         "y": [
          4003637.84,
          4866043.6
         ],
         "yaxis": "y"
        },
        {
         "alignmentgroup": "True",
         "hovertemplate": "PRESIDENTE=BOLSONARO<br>ANO=%{x}<br>Valor em milhões=%{y}<extra></extra>",
         "legendgroup": "BOLSONARO",
         "marker": {
          "color": "#ab63fa",
          "pattern": {
           "shape": ""
          }
         },
         "name": "BOLSONARO",
         "offsetgroup": "BOLSONARO",
         "orientation": "v",
         "showlegend": true,
         "textposition": "auto",
         "type": "bar",
         "x": [
          2019,
          2020,
          2021,
          2022
         ],
         "xaxis": "x",
         "y": [
          5382478.1,
          7314318.09,
          9927562.29,
          4997298.75
         ],
         "yaxis": "y"
        }
       ],
       "layout": {
        "barmode": "relative",
        "legend": {
         "title": {
          "text": "PRESIDENTE"
         },
         "tracegroupgap": 0
        },
        "template": {
         "data": {
          "bar": [
           {
            "error_x": {
             "color": "#2a3f5f"
            },
            "error_y": {
             "color": "#2a3f5f"
            },
            "marker": {
             "line": {
              "color": "#E5ECF6",
              "width": 0.5
             },
             "pattern": {
              "fillmode": "overlay",
              "size": 10,
              "solidity": 0.2
             }
            },
            "type": "bar"
           }
          ],
          "barpolar": [
           {
            "marker": {
             "line": {
              "color": "#E5ECF6",
              "width": 0.5
             },
             "pattern": {
              "fillmode": "overlay",
              "size": 10,
              "solidity": 0.2
             }
            },
            "type": "barpolar"
           }
          ],
          "carpet": [
           {
            "aaxis": {
             "endlinecolor": "#2a3f5f",
             "gridcolor": "white",
             "linecolor": "white",
             "minorgridcolor": "white",
             "startlinecolor": "#2a3f5f"
            },
            "baxis": {
             "endlinecolor": "#2a3f5f",
             "gridcolor": "white",
             "linecolor": "white",
             "minorgridcolor": "white",
             "startlinecolor": "#2a3f5f"
            },
            "type": "carpet"
           }
          ],
          "choropleth": [
           {
            "colorbar": {
             "outlinewidth": 0,
             "ticks": ""
            },
            "type": "choropleth"
           }
          ],
          "contour": [
           {
            "colorbar": {
             "outlinewidth": 0,
             "ticks": ""
            },
            "colorscale": [
             [
              0,
              "#0d0887"
             ],
             [
              0.1111111111111111,
              "#46039f"
             ],
             [
              0.2222222222222222,
              "#7201a8"
             ],
             [
              0.3333333333333333,
              "#9c179e"
             ],
             [
              0.4444444444444444,
              "#bd3786"
             ],
             [
              0.5555555555555556,
              "#d8576b"
             ],
             [
              0.6666666666666666,
              "#ed7953"
             ],
             [
              0.7777777777777778,
              "#fb9f3a"
             ],
             [
              0.8888888888888888,
              "#fdca26"
             ],
             [
              1,
              "#f0f921"
             ]
            ],
            "type": "contour"
           }
          ],
          "contourcarpet": [
           {
            "colorbar": {
             "outlinewidth": 0,
             "ticks": ""
            },
            "type": "contourcarpet"
           }
          ],
          "heatmap": [
           {
            "colorbar": {
             "outlinewidth": 0,
             "ticks": ""
            },
            "colorscale": [
             [
              0,
              "#0d0887"
             ],
             [
              0.1111111111111111,
              "#46039f"
             ],
             [
              0.2222222222222222,
              "#7201a8"
             ],
             [
              0.3333333333333333,
              "#9c179e"
             ],
             [
              0.4444444444444444,
              "#bd3786"
             ],
             [
              0.5555555555555556,
              "#d8576b"
             ],
             [
              0.6666666666666666,
              "#ed7953"
             ],
             [
              0.7777777777777778,
              "#fb9f3a"
             ],
             [
              0.8888888888888888,
              "#fdca26"
             ],
             [
              1,
              "#f0f921"
             ]
            ],
            "type": "heatmap"
           }
          ],
          "heatmapgl": [
           {
            "colorbar": {
             "outlinewidth": 0,
             "ticks": ""
            },
            "colorscale": [
             [
              0,
              "#0d0887"
             ],
             [
              0.1111111111111111,
              "#46039f"
             ],
             [
              0.2222222222222222,
              "#7201a8"
             ],
             [
              0.3333333333333333,
              "#9c179e"
             ],
             [
              0.4444444444444444,
              "#bd3786"
             ],
             [
              0.5555555555555556,
              "#d8576b"
             ],
             [
              0.6666666666666666,
              "#ed7953"
             ],
             [
              0.7777777777777778,
              "#fb9f3a"
             ],
             [
              0.8888888888888888,
              "#fdca26"
             ],
             [
              1,
              "#f0f921"
             ]
            ],
            "type": "heatmapgl"
           }
          ],
          "histogram": [
           {
            "marker": {
             "pattern": {
              "fillmode": "overlay",
              "size": 10,
              "solidity": 0.2
             }
            },
            "type": "histogram"
           }
          ],
          "histogram2d": [
           {
            "colorbar": {
             "outlinewidth": 0,
             "ticks": ""
            },
            "colorscale": [
             [
              0,
              "#0d0887"
             ],
             [
              0.1111111111111111,
              "#46039f"
             ],
             [
              0.2222222222222222,
              "#7201a8"
             ],
             [
              0.3333333333333333,
              "#9c179e"
             ],
             [
              0.4444444444444444,
              "#bd3786"
             ],
             [
              0.5555555555555556,
              "#d8576b"
             ],
             [
              0.6666666666666666,
              "#ed7953"
             ],
             [
              0.7777777777777778,
              "#fb9f3a"
             ],
             [
              0.8888888888888888,
              "#fdca26"
             ],
             [
              1,
              "#f0f921"
             ]
            ],
            "type": "histogram2d"
           }
          ],
          "histogram2dcontour": [
           {
            "colorbar": {
             "outlinewidth": 0,
             "ticks": ""
            },
            "colorscale": [
             [
              0,
              "#0d0887"
             ],
             [
              0.1111111111111111,
              "#46039f"
             ],
             [
              0.2222222222222222,
              "#7201a8"
             ],
             [
              0.3333333333333333,
              "#9c179e"
             ],
             [
              0.4444444444444444,
              "#bd3786"
             ],
             [
              0.5555555555555556,
              "#d8576b"
             ],
             [
              0.6666666666666666,
              "#ed7953"
             ],
             [
              0.7777777777777778,
              "#fb9f3a"
             ],
             [
              0.8888888888888888,
              "#fdca26"
             ],
             [
              1,
              "#f0f921"
             ]
            ],
            "type": "histogram2dcontour"
           }
          ],
          "mesh3d": [
           {
            "colorbar": {
             "outlinewidth": 0,
             "ticks": ""
            },
            "type": "mesh3d"
           }
          ],
          "parcoords": [
           {
            "line": {
             "colorbar": {
              "outlinewidth": 0,
              "ticks": ""
             }
            },
            "type": "parcoords"
           }
          ],
          "pie": [
           {
            "automargin": true,
            "type": "pie"
           }
          ],
          "scatter": [
           {
            "fillpattern": {
             "fillmode": "overlay",
             "size": 10,
             "solidity": 0.2
            },
            "type": "scatter"
           }
          ],
          "scatter3d": [
           {
            "line": {
             "colorbar": {
              "outlinewidth": 0,
              "ticks": ""
             }
            },
            "marker": {
             "colorbar": {
              "outlinewidth": 0,
              "ticks": ""
             }
            },
            "type": "scatter3d"
           }
          ],
          "scattercarpet": [
           {
            "marker": {
             "colorbar": {
              "outlinewidth": 0,
              "ticks": ""
             }
            },
            "type": "scattercarpet"
           }
          ],
          "scattergeo": [
           {
            "marker": {
             "colorbar": {
              "outlinewidth": 0,
              "ticks": ""
             }
            },
            "type": "scattergeo"
           }
          ],
          "scattergl": [
           {
            "marker": {
             "colorbar": {
              "outlinewidth": 0,
              "ticks": ""
             }
            },
            "type": "scattergl"
           }
          ],
          "scattermapbox": [
           {
            "marker": {
             "colorbar": {
              "outlinewidth": 0,
              "ticks": ""
             }
            },
            "type": "scattermapbox"
           }
          ],
          "scatterpolar": [
           {
            "marker": {
             "colorbar": {
              "outlinewidth": 0,
              "ticks": ""
             }
            },
            "type": "scatterpolar"
           }
          ],
          "scatterpolargl": [
           {
            "marker": {
             "colorbar": {
              "outlinewidth": 0,
              "ticks": ""
             }
            },
            "type": "scatterpolargl"
           }
          ],
          "scatterternary": [
           {
            "marker": {
             "colorbar": {
              "outlinewidth": 0,
              "ticks": ""
             }
            },
            "type": "scatterternary"
           }
          ],
          "surface": [
           {
            "colorbar": {
             "outlinewidth": 0,
             "ticks": ""
            },
            "colorscale": [
             [
              0,
              "#0d0887"
             ],
             [
              0.1111111111111111,
              "#46039f"
             ],
             [
              0.2222222222222222,
              "#7201a8"
             ],
             [
              0.3333333333333333,
              "#9c179e"
             ],
             [
              0.4444444444444444,
              "#bd3786"
             ],
             [
              0.5555555555555556,
              "#d8576b"
             ],
             [
              0.6666666666666666,
              "#ed7953"
             ],
             [
              0.7777777777777778,
              "#fb9f3a"
             ],
             [
              0.8888888888888888,
              "#fdca26"
             ],
             [
              1,
              "#f0f921"
             ]
            ],
            "type": "surface"
           }
          ],
          "table": [
           {
            "cells": {
             "fill": {
              "color": "#EBF0F8"
             },
             "line": {
              "color": "white"
             }
            },
            "header": {
             "fill": {
              "color": "#C8D4E3"
             },
             "line": {
              "color": "white"
             }
            },
            "type": "table"
           }
          ]
         },
         "layout": {
          "annotationdefaults": {
           "arrowcolor": "#2a3f5f",
           "arrowhead": 0,
           "arrowwidth": 1
          },
          "autotypenumbers": "strict",
          "coloraxis": {
           "colorbar": {
            "outlinewidth": 0,
            "ticks": ""
           }
          },
          "colorscale": {
           "diverging": [
            [
             0,
             "#8e0152"
            ],
            [
             0.1,
             "#c51b7d"
            ],
            [
             0.2,
             "#de77ae"
            ],
            [
             0.3,
             "#f1b6da"
            ],
            [
             0.4,
             "#fde0ef"
            ],
            [
             0.5,
             "#f7f7f7"
            ],
            [
             0.6,
             "#e6f5d0"
            ],
            [
             0.7,
             "#b8e186"
            ],
            [
             0.8,
             "#7fbc41"
            ],
            [
             0.9,
             "#4d9221"
            ],
            [
             1,
             "#276419"
            ]
           ],
           "sequential": [
            [
             0,
             "#0d0887"
            ],
            [
             0.1111111111111111,
             "#46039f"
            ],
            [
             0.2222222222222222,
             "#7201a8"
            ],
            [
             0.3333333333333333,
             "#9c179e"
            ],
            [
             0.4444444444444444,
             "#bd3786"
            ],
            [
             0.5555555555555556,
             "#d8576b"
            ],
            [
             0.6666666666666666,
             "#ed7953"
            ],
            [
             0.7777777777777778,
             "#fb9f3a"
            ],
            [
             0.8888888888888888,
             "#fdca26"
            ],
            [
             1,
             "#f0f921"
            ]
           ],
           "sequentialminus": [
            [
             0,
             "#0d0887"
            ],
            [
             0.1111111111111111,
             "#46039f"
            ],
            [
             0.2222222222222222,
             "#7201a8"
            ],
            [
             0.3333333333333333,
             "#9c179e"
            ],
            [
             0.4444444444444444,
             "#bd3786"
            ],
            [
             0.5555555555555556,
             "#d8576b"
            ],
            [
             0.6666666666666666,
             "#ed7953"
            ],
            [
             0.7777777777777778,
             "#fb9f3a"
            ],
            [
             0.8888888888888888,
             "#fdca26"
            ],
            [
             1,
             "#f0f921"
            ]
           ]
          },
          "colorway": [
           "#636efa",
           "#EF553B",
           "#00cc96",
           "#ab63fa",
           "#FFA15A",
           "#19d3f3",
           "#FF6692",
           "#B6E880",
           "#FF97FF",
           "#FECB52"
          ],
          "font": {
           "color": "#2a3f5f"
          },
          "geo": {
           "bgcolor": "white",
           "lakecolor": "white",
           "landcolor": "#E5ECF6",
           "showlakes": true,
           "showland": true,
           "subunitcolor": "white"
          },
          "hoverlabel": {
           "align": "left"
          },
          "hovermode": "closest",
          "mapbox": {
           "style": "light"
          },
          "paper_bgcolor": "white",
          "plot_bgcolor": "#E5ECF6",
          "polar": {
           "angularaxis": {
            "gridcolor": "white",
            "linecolor": "white",
            "ticks": ""
           },
           "bgcolor": "#E5ECF6",
           "radialaxis": {
            "gridcolor": "white",
            "linecolor": "white",
            "ticks": ""
           }
          },
          "scene": {
           "xaxis": {
            "backgroundcolor": "#E5ECF6",
            "gridcolor": "white",
            "gridwidth": 2,
            "linecolor": "white",
            "showbackground": true,
            "ticks": "",
            "zerolinecolor": "white"
           },
           "yaxis": {
            "backgroundcolor": "#E5ECF6",
            "gridcolor": "white",
            "gridwidth": 2,
            "linecolor": "white",
            "showbackground": true,
            "ticks": "",
            "zerolinecolor": "white"
           },
           "zaxis": {
            "backgroundcolor": "#E5ECF6",
            "gridcolor": "white",
            "gridwidth": 2,
            "linecolor": "white",
            "showbackground": true,
            "ticks": "",
            "zerolinecolor": "white"
           }
          },
          "shapedefaults": {
           "line": {
            "color": "#2a3f5f"
           }
          },
          "ternary": {
           "aaxis": {
            "gridcolor": "white",
            "linecolor": "white",
            "ticks": ""
           },
           "baxis": {
            "gridcolor": "white",
            "linecolor": "white",
            "ticks": ""
           },
           "bgcolor": "#E5ECF6",
           "caxis": {
            "gridcolor": "white",
            "linecolor": "white",
            "ticks": ""
           }
          },
          "title": {
           "x": 0.05
          },
          "xaxis": {
           "automargin": true,
           "gridcolor": "white",
           "linecolor": "white",
           "ticks": "",
           "title": {
            "standoff": 15
           },
           "zerolinecolor": "white",
           "zerolinewidth": 2
          },
          "yaxis": {
           "automargin": true,
           "gridcolor": "white",
           "linecolor": "white",
           "ticks": "",
           "title": {
            "standoff": 15
           },
           "zerolinecolor": "white",
           "zerolinewidth": 2
          }
         }
        },
        "title": {
         "text": "Gastos do cartão presidencial por presidente"
        },
        "xaxis": {
         "anchor": "y",
         "domain": [
          0,
          1
         ],
         "tickangle": 45,
         "tickvals": [
          2003,
          2004,
          2005,
          2006,
          2007,
          2008,
          2009,
          2010,
          2011,
          2012,
          2013,
          2014,
          2015,
          2016,
          2017,
          2018,
          2019,
          2020,
          2021,
          2022
         ],
         "title": {
          "text": "ANO"
         }
        },
        "yaxis": {
         "anchor": "x",
         "domain": [
          0,
          1
         ],
         "title": {
          "text": "Valor em milhões"
         }
        }
       }
      }
     },
     "metadata": {},
     "output_type": "display_data"
    }
   ],
   "source": [
    "fig = px.bar(gastos_presidente, x='ANO', y=\"VALOR_NUM\", color='PRES', title=\"Gastos do cartão presidencial por presidente\",\n",
    "       labels={\n",
    "           \"VALOR_NUM\": \"Valor em milhões\",\n",
    "           'PRES': \"PRESIDENTE\"\n",
    "       })\n",
    "\n",
    "fig.update_xaxes(tickangle=45, tickvals = gastos_presidente['ANO'][::])"
   ]
  }
 ],
 "metadata": {
  "kernelspec": {
   "display_name": "base",
   "language": "python",
   "name": "python3"
  },
  "language_info": {
   "codemirror_mode": {
    "name": "ipython",
    "version": 3
   },
   "file_extension": ".py",
   "mimetype": "text/x-python",
   "name": "python",
   "nbconvert_exporter": "python",
   "pygments_lexer": "ipython3",
   "version": "3.9.13"
  },
  "orig_nbformat": 4,
  "vscode": {
   "interpreter": {
    "hash": "f5f9ac06a7091c0df8774029cb463d9e99eca4543b01ad1d7e8e7825d7c91f99"
   }
  }
 },
 "nbformat": 4,
 "nbformat_minor": 2
}
